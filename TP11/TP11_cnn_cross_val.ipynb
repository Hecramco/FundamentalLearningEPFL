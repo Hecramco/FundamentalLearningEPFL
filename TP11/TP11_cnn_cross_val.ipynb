{
 "cells": [
  {
   "cell_type": "markdown",
   "metadata": {},
   "source": [
    "# Introduction\n",
    "\n",
    "**What did we learn last week?**: We got a first look at PyTorch and trained a deep learning model with automatic differentiation.\n",
    "\n",
    "**What you will learn today**: We will take a closer look at Convolutional Neural Networks and understand why they are ubiquitously used. Then, we will look at the *correct* way of evaluating performance. Finally, we will explore some important hyperparameters/design decision for \n",
    "boosting performance."
   ]
  },
  {
   "cell_type": "markdown",
   "metadata": {},
   "source": [
    "## Convolutional Neural Networks\n",
    "\n",
    "Great sources:\n",
    "- https://poloclub.github.io/cnn-explainer/\n",
    "- https://setosa.io/ev/image-kernels/\n",
    "\n",
    "![](https://poloclub.github.io/cnn-explainer/assets/figures/convlayer_detailedview_demo.gif)\n",
    "\n",
    "**Why convolutions and not fully-connected layers?** In the previous lab, we used a MultiLayer Perceptron (MLP) to perform classification on the MNIST dataset of handwritten digits. However, MLPs expect a vector as an input and, hence, our first step was to *flatten* the image; from an input of shape $(1, 28, 28)$ we got a vector of $1\\times28\\times28=784$ elements. Then, each layer of the MLP is fully connected, meaning that all $784$ elements are fed into each neuron of the next layer.\n",
    "\n",
    "Does this sound reasonable?\n",
    "\n",
    "No! First, by flattening we implicitly lose *local* information. Assume you look at pixel in location $(5,5)$, then the neighboring pixels $(4,5),(6,5), (5,4), (5,6),\\dots$ are important and must be \"somewhat similar\". Second, by using all elements of the previous layer. the top left and bottom right pixels are used in the same computation. \n",
    "\n",
    "Convolutional Neural Networks address these (and more) concerns and are suitable for the image domain. But, what are convolutions? We start with a small matrix of weights, e.g. $3\\times3$, which is called a kernel. The kernel is then slided over the 2d input and we perform elementwise multiplication with the values the kernel is currently on. The summation of the $3\\times3=9$ elements is the output for the pixel. Hence, the kernel performs a \"local\" computation. *Back in the day*, kernels were hand-designed to perform a specific operation. For example, the Sobel operator is used for edge-detection:\n",
    "\n",
    "$$\n",
    "\\mathbf{G}_x=\\left[\\begin{array}{ccc}\n",
    "+1 & 0 & -1 \\\\\n",
    "+2 & 0 & -2 \\\\\n",
    "+1 & 0 & -1\n",
    "\\end{array}\\right] * \\mathbf{A} \\quad \\text { and } \\quad \\mathbf{G}_y=\\left[\\begin{array}{ccc}\n",
    "+1 & +2 & +1 \\\\\n",
    "0 & 0 & 0 \\\\\n",
    "-1 & -2 & -1\n",
    "\\end{array}\\right] * \\mathbf{A}\n",
    "$$\n",
    "\n",
    "$$\n",
    "\\mathbf{G}=\\sqrt{\\mathbf{G}_x^2+\\mathbf{G}_y^2}\n",
    "$$\n",
    "\n",
    "For example:\n",
    "\n",
    "![](https://miro.medium.com/max/640/1*m9XHMKQPY6mKYsaykuVAsw.webp)\n",
    "\n",
    "Creating filters for every different scenario requires domain knowledge and is cumbersome. (Convolutional) Neural Networks learn the values of these filters in an \"end-to-end\" manner! "
   ]
  },
  {
   "cell_type": "code",
   "execution_count": 1,
   "metadata": {},
   "outputs": [],
   "source": [
    "%load_ext autoreload\n",
    "%autoreload 2"
   ]
  },
  {
   "cell_type": "code",
   "execution_count": 2,
   "metadata": {},
   "outputs": [],
   "source": [
    "# import our \"local\" library of functions\n",
    "from training_utils import train_epoch, fit, predict, visualize_images\n",
    "\n",
    "# also import everything else that we need\n",
    "import torch\n",
    "import torch.nn as nn\n",
    "import torchvision\n",
    "from torch.utils.data import DataLoader\n",
    "import matplotlib.pyplot as plt\n"
   ]
  },
  {
   "cell_type": "code",
   "execution_count": 3,
   "metadata": {},
   "outputs": [
    {
     "name": "stdout",
     "output_type": "stream",
     "text": [
      "cuda\n"
     ]
    }
   ],
   "source": [
    "# define the hyperparameters\n",
    "BATCH_SIZE = 1024\n",
    "TEST_BATCH_SIZE = 1024\n",
    "LEARNING_RATE = 0.01\n",
    "\n",
    "# find out which device is available\n",
    "DEVICE = torch.device(\"cuda\" if torch.cuda.is_available() else \"cpu\")\n",
    "print(DEVICE)"
   ]
  },
  {
   "cell_type": "code",
   "execution_count": 4,
   "metadata": {},
   "outputs": [
    {
     "name": "stdout",
     "output_type": "stream",
     "text": [
      "Downloading http://yann.lecun.com/exdb/mnist/train-images-idx3-ubyte.gz\n",
      "Downloading http://yann.lecun.com/exdb/mnist/train-images-idx3-ubyte.gz to ./data/MNIST\\raw\\train-images-idx3-ubyte.gz\n"
     ]
    },
    {
     "data": {
      "application/vnd.jupyter.widget-view+json": {
       "model_id": "0cd0d1fb050c4aa2866b0967b05f8315",
       "version_major": 2,
       "version_minor": 0
      },
      "text/plain": [
       "  0%|          | 0/9912422 [00:00<?, ?it/s]"
      ]
     },
     "metadata": {},
     "output_type": "display_data"
    },
    {
     "name": "stdout",
     "output_type": "stream",
     "text": [
      "Extracting ./data/MNIST\\raw\\train-images-idx3-ubyte.gz to ./data/MNIST\\raw\n",
      "\n",
      "Downloading http://yann.lecun.com/exdb/mnist/train-labels-idx1-ubyte.gz\n",
      "Downloading http://yann.lecun.com/exdb/mnist/train-labels-idx1-ubyte.gz to ./data/MNIST\\raw\\train-labels-idx1-ubyte.gz\n"
     ]
    },
    {
     "data": {
      "application/vnd.jupyter.widget-view+json": {
       "model_id": "fb74f2bc4d86415a952e7e333efe3138",
       "version_major": 2,
       "version_minor": 0
      },
      "text/plain": [
       "  0%|          | 0/28881 [00:00<?, ?it/s]"
      ]
     },
     "metadata": {},
     "output_type": "display_data"
    },
    {
     "name": "stdout",
     "output_type": "stream",
     "text": [
      "Extracting ./data/MNIST\\raw\\train-labels-idx1-ubyte.gz to ./data/MNIST\\raw\n",
      "\n",
      "Downloading http://yann.lecun.com/exdb/mnist/t10k-images-idx3-ubyte.gz\n",
      "Downloading http://yann.lecun.com/exdb/mnist/t10k-images-idx3-ubyte.gz to ./data/MNIST\\raw\\t10k-images-idx3-ubyte.gz\n"
     ]
    },
    {
     "data": {
      "application/vnd.jupyter.widget-view+json": {
       "model_id": "48400dd92df44533bcfed98bf200742c",
       "version_major": 2,
       "version_minor": 0
      },
      "text/plain": [
       "  0%|          | 0/1648877 [00:00<?, ?it/s]"
      ]
     },
     "metadata": {},
     "output_type": "display_data"
    },
    {
     "name": "stdout",
     "output_type": "stream",
     "text": [
      "Extracting ./data/MNIST\\raw\\t10k-images-idx3-ubyte.gz to ./data/MNIST\\raw\n",
      "\n",
      "Downloading http://yann.lecun.com/exdb/mnist/t10k-labels-idx1-ubyte.gz\n",
      "Downloading http://yann.lecun.com/exdb/mnist/t10k-labels-idx1-ubyte.gz to ./data/MNIST\\raw\\t10k-labels-idx1-ubyte.gz\n"
     ]
    },
    {
     "data": {
      "application/vnd.jupyter.widget-view+json": {
       "model_id": "352bfa8c2d49438387028c3115a78727",
       "version_major": 2,
       "version_minor": 0
      },
      "text/plain": [
       "  0%|          | 0/4542 [00:00<?, ?it/s]"
      ]
     },
     "metadata": {},
     "output_type": "display_data"
    },
    {
     "name": "stdout",
     "output_type": "stream",
     "text": [
      "Extracting ./data/MNIST\\raw\\t10k-labels-idx1-ubyte.gz to ./data/MNIST\\raw\n",
      "\n"
     ]
    }
   ],
   "source": [
    "transform = torchvision.transforms.ToTensor()\n",
    "\n",
    "# load the train dataset\n",
    "train_dataset = torchvision.datasets.MNIST(\n",
    "    root='./data/', \n",
    "    train=True, \n",
    "    download=True,\n",
    "    transform=transform)\n",
    "\n",
    "# load the test dataset\n",
    "test_dataset = torchvision.datasets.MNIST(\n",
    "    root='./data/', \n",
    "    train=False, \n",
    "    download=True,\n",
    "    transform=transform)\n",
    "\n",
    "# define the train and test dataloaders\n",
    "train_dataloader = torch.utils.data.DataLoader(\n",
    "    dataset=train_dataset, \n",
    "    batch_size=BATCH_SIZE,\n",
    "    shuffle=True, \n",
    "    num_workers=2)\n",
    "\n",
    "# Construct the dataloader for the testing dataset.\n",
    "test_dataloader = torch.utils.data.DataLoader(\n",
    "    dataset=test_dataset, \n",
    "    batch_size=TEST_BATCH_SIZE,\n",
    "    shuffle=False, \n",
    "    num_workers=2)"
   ]
  },
  {
   "cell_type": "code",
   "execution_count": 5,
   "metadata": {},
   "outputs": [
    {
     "data": {
      "image/png": "[encoded data removed]",
      "text/plain": [
       "<Figure size 432x288 with 1 Axes>"
      ]
     },
     "metadata": {
      "needs_background": "light"
     },
     "output_type": "display_data"
    }
   ],
   "source": [
    "visualize_images(train_dataloader)"
   ]
  },
  {
   "cell_type": "code",
   "execution_count": 10,
   "metadata": {},
   "outputs": [
    {
     "data": {
      "text/plain": [
       "torch.Size([1, 28, 28])"
      ]
     },
     "execution_count": 10,
     "metadata": {},
     "output_type": "execute_result"
    }
   ],
   "source": [
    "next(iter(train_dataloader))[0][0].shape"
   ]
  },
  {
   "cell_type": "code",
   "execution_count": 11,
   "metadata": {},
   "outputs": [],
   "source": [
    "class CNN(nn.Module): \n",
    "    def __init__(self):\n",
    "        super().__init__()\n",
    "\n",
    "        # We use a Sequential, i.e. the inputs passes through each of\n",
    "        # the modules below, one-by-one\n",
    "        self.conv = nn.Sequential(         \n",
    "            nn.Conv2d(\n",
    "                in_channels=1,              \n",
    "                out_channels=16,            \n",
    "                kernel_size=3,              \n",
    "                stride=1,                   \n",
    "                padding=1,                  \n",
    "            ),            # output shape (16,28, 28)                  \n",
    "            nn.ReLU(),                      \n",
    "            nn.MaxPool2d(kernel_size=2),  # output shape (16,14, 14)\n",
    "            nn.Conv2d(\n",
    "                in_channels=16, \n",
    "                out_channels=32, \n",
    "                kernel_size=3, \n",
    "                stride=1, \n",
    "                padding=1),  # output shape (32,14, 14)\n",
    "            nn.ReLU(),                      \n",
    "            nn.MaxPool2d(2),           # output shape (32,7, 7)\n",
    "        )\n",
    "              \n",
    "        # fully connected layer, output 10 classes   \n",
    "        self.out = nn.Linear(32*7*7, 10)    \n",
    "        \n",
    "    def forward(self, x):\n",
    "        x = self.conv(x)\n",
    "        x = x.view(x.size(0), -1) \n",
    "        x = self.out(x)\n",
    "        return x   \n",
    "        "
   ]
  },
  {
   "cell_type": "code",
   "execution_count": 13,
   "metadata": {},
   "outputs": [
    {
     "name": "stdout",
     "output_type": "stream",
     "text": [
      "Epoch 0: Loss=1.7253812763650538\n",
      "Epoch 1: Loss=0.46232873554957116\n",
      "Epoch 2: Loss=0.2678286882780366\n",
      "Epoch 3: Loss=0.20449888933513125\n",
      "Epoch 4: Loss=0.1726266221474793\n",
      "Epoch 5: Loss=0.15026592829469906\n",
      "Epoch 6: Loss=0.1337083263669984\n",
      "Epoch 7: Loss=0.12237438597416474\n",
      "Epoch 8: Loss=0.11120280951766645\n",
      "Epoch 9: Loss=0.10386936038227404\n",
      "Test set: Avg. loss: 0.0972, Accuracy: 9704/10000 (97%)\n"
     ]
    },
    {
     "data": {
      "text/plain": [
       "(0.09721641578674316, tensor(97.0400, device='cuda:0'))"
      ]
     },
     "execution_count": 13,
     "metadata": {},
     "output_type": "execute_result"
    }
   ],
   "source": [
    "# initialize model\n",
    "cnn = CNN().to(DEVICE)\n",
    "\n",
    "# define the optimizer.\n",
    "optimizer = torch.optim.SGD(cnn.parameters(), lr=0.1)\n",
    "\n",
    "# train the CNN\n",
    "fit(cnn, train_dataloader, optimizer, 10, DEVICE)\n",
    "\n",
    "# predict\n",
    "predict(cnn, test_dataloader, DEVICE)"
   ]
  },
  {
   "cell_type": "markdown",
   "metadata": {},
   "source": [
    "## CIFAR10"
   ]
  },
  {
   "cell_type": "code",
   "execution_count": 14,
   "metadata": {},
   "outputs": [
    {
     "name": "stdout",
     "output_type": "stream",
     "text": [
      "Downloading https://www.cs.toronto.edu/~kriz/cifar-10-python.tar.gz to ./data/cifar-10-python.tar.gz\n"
     ]
    },
    {
     "data": {
      "application/vnd.jupyter.widget-view+json": {
       "model_id": "063ecd96e51347ff96848c077679e4b8",
       "version_major": 2,
       "version_minor": 0
      },
      "text/plain": [
       "  0%|          | 0/170498071 [00:00<?, ?it/s]"
      ]
     },
     "metadata": {},
     "output_type": "display_data"
    },
    {
     "name": "stdout",
     "output_type": "stream",
     "text": [
      "Extracting ./data/cifar-10-python.tar.gz to ./data/\n",
      "Files already downloaded and verified\n"
     ]
    },
    {
     "data": {
      "image/png": "[encoded data removed]",
      "text/plain": [
       "<Figure size 432x288 with 1 Axes>"
      ]
     },
     "metadata": {
      "needs_background": "light"
     },
     "output_type": "display_data"
    }
   ],
   "source": [
    "transform = torchvision.transforms.ToTensor()\n",
    "\n",
    "# load the train dataset\n",
    "train_dataset = torchvision.datasets.CIFAR10(\n",
    "    root='./data/', \n",
    "    train=True, \n",
    "    download=True,\n",
    "    transform=transform)\n",
    "\n",
    "# load the test dataset\n",
    "test_dataset = torchvision.datasets.CIFAR10(\n",
    "    root='./data/', \n",
    "    train=False, \n",
    "    download=True,\n",
    "    transform=transform)\n",
    "\n",
    "# define the train and test dataloaders\n",
    "train_dataloader = torch.utils.data.DataLoader(\n",
    "    dataset=train_dataset, \n",
    "    batch_size=BATCH_SIZE,\n",
    "    shuffle=True, \n",
    "    num_workers=2)\n",
    "\n",
    "# Construct the dataloader for the testing dataset.\n",
    "test_dataloader = torch.utils.data.DataLoader(\n",
    "    dataset=test_dataset, \n",
    "    batch_size=TEST_BATCH_SIZE,\n",
    "    shuffle=False, \n",
    "    num_workers=2)\n",
    "\n",
    "visualize_images(train_dataloader)"
   ]
  },
  {
   "cell_type": "code",
   "execution_count": 16,
   "metadata": {},
   "outputs": [
    {
     "data": {
      "text/plain": [
       "torch.Size([3, 32, 32])"
      ]
     },
     "execution_count": 16,
     "metadata": {},
     "output_type": "execute_result"
    }
   ],
   "source": [
    "next(iter(train_dataloader))[0][0].shape"
   ]
  },
  {
   "cell_type": "code",
   "execution_count": null,
   "metadata": {},
   "outputs": [],
   "source": [
    "# initialize model\n",
    "cnn = CNN().to(DEVICE)\n",
    "\n",
    "# define the optimizer. \n",
    "optimizer = torch.optim.SGD(cnn.parameters(), lr=0.1, momentum=0.9)\n",
    "\n",
    "\n",
    "# train the CNN\n",
    "fit(cnn, train_dataloader, optimizer, 10, DEVICE)\n",
    "\n",
    "# predict\n",
    "predict(cnn, test_dataloader, DEVICE)"
   ]
  },
  {
   "cell_type": "markdown",
   "metadata": {},
   "source": [
    "The above failed! Why? Make modifications to the model and perform the same training loop."
   ]
  },
  {
   "cell_type": "code",
   "execution_count": 17,
   "metadata": {},
   "outputs": [
    {
     "name": "stdout",
     "output_type": "stream",
     "text": [
      "Epoch 0: Loss=2.2252733512800567\n",
      "Epoch 1: Loss=2.1102092120112204\n",
      "Epoch 2: Loss=1.975439531462533\n",
      "Epoch 3: Loss=1.8755972628690758\n",
      "Epoch 4: Loss=1.7536532027380807\n",
      "Epoch 5: Loss=1.6971054588045393\n",
      "Epoch 6: Loss=1.6290155162616653\n",
      "Epoch 7: Loss=1.5798253550821422\n",
      "Epoch 8: Loss=1.552956907116637\n",
      "Epoch 9: Loss=1.517120675164826\n",
      "Test set: Avg. loss: 1.4562, Accuracy: 4853/10000 (49%)\n"
     ]
    },
    {
     "data": {
      "text/plain": [
       "(1.456188134765625, tensor(48.5300, device='cuda:0'))"
      ]
     },
     "execution_count": 17,
     "metadata": {},
     "output_type": "execute_result"
    }
   ],
   "source": [
    "class CifarCNN(nn.Module): \n",
    "    def __init__(self):\n",
    "        super().__init__()\n",
    "        # Define the same model as before. What must be changed to make the model \n",
    "        self.conv = nn.Sequential(         \n",
    "            nn.Conv2d(\n",
    "                in_channels=3,              \n",
    "                out_channels=16,            \n",
    "                kernel_size=3,              \n",
    "                stride=1,                   \n",
    "                padding=1,                  \n",
    "            ),            # output shape (16,32, 32)                  \n",
    "            nn.ReLU(),                      \n",
    "            nn.MaxPool2d(kernel_size=2),  # output shape (16,16, 16)\n",
    "            nn.Conv2d(\n",
    "                in_channels=16, \n",
    "                out_channels=32, \n",
    "                kernel_size=3, \n",
    "                stride=1, \n",
    "                padding=1),  # output shape (32,16, 16)\n",
    "            nn.ReLU(),                      \n",
    "            nn.MaxPool2d(2),           # output shape (32,8, 8)\n",
    "        )\n",
    "              \n",
    "        # fully connected layer, output 10 classes   \n",
    "        self.out = nn.Linear(32*8*8, 10)    \n",
    "        \n",
    "    \n",
    "        \n",
    "    def forward(self, x):\n",
    "        x = self.conv(x)\n",
    "        x = x.view(x.size(0), -1) \n",
    "        x = self.out(x)\n",
    "        return x   \n",
    "\n",
    "cnn_cifar = CifarCNN().to(DEVICE)\n",
    "\n",
    "# define the optimizer.\n",
    "optimizer = torch.optim.SGD(cnn_cifar.parameters(), lr=0.1)\n",
    "\n",
    "# train the CNN\n",
    "fit(cnn_cifar, train_dataloader, optimizer, 10, DEVICE)\n",
    "\n",
    "# predict\n",
    "predict(cnn_cifar, test_dataloader, DEVICE)"
   ]
  },
  {
   "cell_type": "markdown",
   "metadata": {},
   "source": [
    "**Takeaways**: CIfar10 is a more complex dataset than MNIST; the images are larger and RGB, the model is larger and a simple training scheme returns very bad results! How can we change this?"
   ]
  },
  {
   "cell_type": "markdown",
   "metadata": {},
   "source": [
    "## Validation set\n",
    "\n",
    "Before looking into tips and tricks for boosting the performance of a model, we need to establish a proper evaluation protocol. This is where the validation set comes in. \n",
    "\n",
    "In the real world, we do not have access to the test set, e.g., customer churning or self-driving cars. But, still, we need to evaluate the performance of our models on *unseen data*. The most common way is to split the training set into training+validation."
   ]
  },
  {
   "cell_type": "code",
   "execution_count": 21,
   "metadata": {},
   "outputs": [
    {
     "name": "stdout",
     "output_type": "stream",
     "text": [
      "Dataset MNIST\n",
      "    Number of datapoints: 60000\n",
      "    Root location: ./data/\n",
      "    Split: Train\n",
      "    StandardTransform\n",
      "Transform: ToTensor()\n",
      "The training set has 60000 samples.\n",
      "<torch.utils.data.dataset.Subset object at 0x0000016600730400>\n"
     ]
    }
   ],
   "source": [
    "# load the train dataset\n",
    "train_dataset = torchvision.datasets.MNIST(\n",
    "    root='./data/', \n",
    "    train=True, \n",
    "    download=True,\n",
    "    transform=transform)\n",
    "\n",
    "# load the test dataset\n",
    "test_dataset = torchvision.datasets.MNIST(\n",
    "    root='./data/', \n",
    "    train=False, \n",
    "    download=True,\n",
    "    transform=transform)\n",
    "\n",
    "print(train_dataset)\n",
    "\n",
    "# Split the training set into training + validation. \n",
    "# How many samples does the training set have?\n",
    "print(f\"The training set has {len(train_dataset)} samples.\")\n",
    "\n",
    "# Split the dataset into ?????-10k samples for training-validation.\n",
    "validation_size = 10000\n",
    "valid_dataset, train_dataset = torch.utils.data.random_split(train_dataset, [validation_size, len(train_dataset) - validation_size])\n",
    "\n",
    "# what is the type of the \"new\" training dataset?\n",
    "print(train_dataset)"
   ]
  },
  {
   "cell_type": "code",
   "execution_count": 22,
   "metadata": {},
   "outputs": [],
   "source": [
    "train_dataloader = DataLoader(\n",
    "    dataset=train_dataset, \n",
    "    batch_size=BATCH_SIZE,\n",
    "    shuffle=True, \n",
    "    num_workers=2)\n",
    "\n",
    "valid_dataloader = DataLoader(\n",
    "    dataset=valid_dataset, \n",
    "    batch_size=TEST_BATCH_SIZE,\n",
    "    shuffle=False, \n",
    "    num_workers=2)\n",
    "\n",
    "test_dataloader = DataLoader(\n",
    "    dataset=test_dataset, \n",
    "    batch_size=TEST_BATCH_SIZE,\n",
    "    shuffle=False, \n",
    "    num_workers=2)"
   ]
  },
  {
   "cell_type": "markdown",
   "metadata": {},
   "source": [
    "Modify the fit function to also use a validation set"
   ]
  },
  {
   "cell_type": "code",
   "execution_count": 23,
   "metadata": {},
   "outputs": [],
   "source": [
    "from typing import Optional\n",
    "\n",
    "def fit(\n",
    "    model: nn.Module, \n",
    "    train_dataloader: DataLoader, \n",
    "    optimizer: torch.optim.Optimizer, \n",
    "    epochs: int, \n",
    "    device: torch.device,\n",
    "    valid_dataloader: Optional[DataLoader]=None):\n",
    "    \n",
    "        # keep track of the losses in order to visualize them later\n",
    "    train_losses = []\n",
    "    valid_losses = []\n",
    "    valid_accs = []\n",
    "    for epoch in range(epochs):\n",
    "        running_loss = train_epoch(\n",
    "            model=model,\n",
    "            train_dataloader=train_dataloader,\n",
    "            optimizer=optimizer,\n",
    "            device=device,\n",
    "        )\n",
    "        \n",
    "        valid_loss, accuracy = predict(model, valid_dataloader, device)\n",
    "        valid_losses.append(valid_loss)\n",
    "        valid_accs.append(accuracy)\n",
    "        \n",
    "        print(f\"Epoch {epoch}: Loss={running_loss}\")\n",
    "        print(f\"Epoch {epoch}: Valid Loss={valid_loss}, Valid Accuracy={accuracy}\")\n",
    "        train_losses.append(running_loss)\n",
    "\n",
    "    return train_losses, valid_losses, valid_accs"
   ]
  },
  {
   "cell_type": "code",
   "execution_count": 24,
   "metadata": {},
   "outputs": [
    {
     "name": "stdout",
     "output_type": "stream",
     "text": [
      "Test set: Avg. loss: 0.8805, Accuracy: 7703/10000 (77%)\n",
      "Epoch 0: Loss=1.665816836211146\n",
      "Epoch 0: Valid Loss=0.8804550659179687, Valid Accuracy=77.02999877929688\n",
      "Test set: Avg. loss: 0.4117, Accuracy: 8610/10000 (86%)\n",
      "Epoch 1: Loss=0.5681400323400692\n",
      "Epoch 1: Valid Loss=0.41165140075683593, Valid Accuracy=86.0999984741211\n",
      "Test set: Avg. loss: 0.2618, Accuracy: 9213/10000 (92%)\n",
      "Epoch 2: Loss=0.3269848458620967\n",
      "Epoch 2: Valid Loss=0.2618261016845703, Valid Accuracy=92.12999725341797\n",
      "Test set: Avg. loss: 0.1985, Accuracy: 9415/10000 (94%)\n",
      "Epoch 3: Loss=0.2370431991864224\n",
      "Epoch 3: Valid Loss=0.19847675018310548, Valid Accuracy=94.14999389648438\n",
      "Test set: Avg. loss: 0.1701, Accuracy: 9507/10000 (95%)\n",
      "Epoch 4: Loss=0.19503985983984812\n",
      "Epoch 4: Valid Loss=0.17010132293701172, Valid Accuracy=95.06999969482422\n",
      "Test set: Avg. loss: 0.1493, Accuracy: 9568/10000 (96%)\n",
      "Epoch 5: Loss=0.16593181509144453\n",
      "Epoch 5: Valid Loss=0.14929696960449218, Valid Accuracy=95.68000030517578\n",
      "Test set: Avg. loss: 0.1331, Accuracy: 9629/10000 (96%)\n",
      "Epoch 6: Loss=0.1456597126564201\n",
      "Epoch 6: Valid Loss=0.13312209701538086, Valid Accuracy=96.29000091552734\n",
      "Test set: Avg. loss: 0.1231, Accuracy: 9646/10000 (96%)\n",
      "Epoch 7: Loss=0.1322772987947172\n",
      "Epoch 7: Valid Loss=0.12311001968383789, Valid Accuracy=96.45999908447266\n",
      "Test set: Avg. loss: 0.1114, Accuracy: 9686/10000 (97%)\n",
      "Epoch 8: Loss=0.12040001153945923\n",
      "Epoch 8: Valid Loss=0.11137767181396484, Valid Accuracy=96.86000061035156\n",
      "Test set: Avg. loss: 0.1080, Accuracy: 9683/10000 (97%)\n",
      "Epoch 9: Loss=0.11134529265822196\n",
      "Epoch 9: Valid Loss=0.10797693023681641, Valid Accuracy=96.82999420166016\n",
      "Test set: Avg. loss: 0.1024, Accuracy: 9694/10000 (97%)\n"
     ]
    },
    {
     "data": {
      "text/plain": [
       "(0.10240766944885255, tensor(96.9400, device='cuda:0'))"
      ]
     },
     "execution_count": 24,
     "metadata": {},
     "output_type": "execute_result"
    }
   ],
   "source": [
    "cnn = CNN().to(DEVICE)\n",
    "\n",
    "# define the optimizer.\n",
    "optimizer = torch.optim.SGD(cnn.parameters(), lr=0.1)\n",
    "\n",
    "train_losses, valid_losses, valid_accs = fit(\n",
    "    model=cnn, \n",
    "    train_dataloader=train_dataloader,\n",
    "    valid_dataloader=valid_dataloader,\n",
    "    optimizer=optimizer,\n",
    "    epochs=10,\n",
    "    device=DEVICE\n",
    ")\n",
    "\n",
    "predict(model=cnn, test_dataloader=test_dataloader, device=DEVICE)"
   ]
  },
  {
   "cell_type": "markdown",
   "metadata": {},
   "source": [
    "## Importance of optimizer and learning rate\n",
    "\n",
    "So far in this lab, we have used the same learning rate and optimizer (vanilla SGD). However, the choice of optimizer and the corresponding hyperparameters play a crucial role in the end performance."
   ]
  },
  {
   "cell_type": "markdown",
   "metadata": {},
   "source": [
    "Explore the exact same experiment as before BUT change the learning rate to $0.001$. How does this change affect performance?"
   ]
  },
  {
   "cell_type": "code",
   "execution_count": 25,
   "metadata": {},
   "outputs": [
    {
     "name": "stdout",
     "output_type": "stream",
     "text": [
      "Test set: Avg. loss: 0.1036, Accuracy: 9703/10000 (97%)\n",
      "Epoch 0: Loss=0.10630042227555295\n",
      "Epoch 0: Valid Loss=0.10360513992309571, Valid Accuracy=97.02999877929688\n",
      "Test set: Avg. loss: 0.1025, Accuracy: 9707/10000 (97%)\n",
      "Epoch 1: Loss=0.10385295642273766\n",
      "Epoch 1: Valid Loss=0.10245484313964844, Valid Accuracy=97.06999969482422\n",
      "Test set: Avg. loss: 0.1021, Accuracy: 9714/10000 (97%)\n",
      "Epoch 2: Loss=0.10318711749753173\n",
      "Epoch 2: Valid Loss=0.10208385925292969, Valid Accuracy=97.13999938964844\n",
      "Test set: Avg. loss: 0.1019, Accuracy: 9714/10000 (97%)\n",
      "Epoch 3: Loss=0.10294524169698054\n",
      "Epoch 3: Valid Loss=0.10191904678344726, Valid Accuracy=97.13999938964844\n",
      "Test set: Avg. loss: 0.1018, Accuracy: 9715/10000 (97%)\n",
      "Epoch 4: Loss=0.10269266944758747\n",
      "Epoch 4: Valid Loss=0.10182594604492187, Valid Accuracy=97.14999389648438\n",
      "Test set: Avg. loss: 0.1018, Accuracy: 9714/10000 (97%)\n",
      "Epoch 5: Loss=0.10262890525010167\n",
      "Epoch 5: Valid Loss=0.10175504989624023, Valid Accuracy=97.13999938964844\n",
      "Test set: Avg. loss: 0.1017, Accuracy: 9713/10000 (97%)\n",
      "Epoch 6: Loss=0.10248285547202947\n",
      "Epoch 6: Valid Loss=0.10168933029174805, Valid Accuracy=97.12999725341797\n",
      "Test set: Avg. loss: 0.1016, Accuracy: 9712/10000 (97%)\n",
      "Epoch 7: Loss=0.1024852352482932\n",
      "Epoch 7: Valid Loss=0.10161872940063477, Valid Accuracy=97.1199951171875\n",
      "Test set: Avg. loss: 0.1016, Accuracy: 9714/10000 (97%)\n",
      "Epoch 8: Loss=0.10234654466716611\n",
      "Epoch 8: Valid Loss=0.10155455780029297, Valid Accuracy=97.13999938964844\n",
      "Test set: Avg. loss: 0.1015, Accuracy: 9714/10000 (97%)\n",
      "Epoch 9: Loss=0.10233411542615112\n",
      "Epoch 9: Valid Loss=0.10148310165405273, Valid Accuracy=97.13999938964844\n",
      "Test set: Avg. loss: 0.0952, Accuracy: 9716/10000 (97%)\n"
     ]
    },
    {
     "data": {
      "text/plain": [
       "Text(0, 0.5, 'Train loss')"
      ]
     },
     "execution_count": 25,
     "metadata": {},
     "output_type": "execute_result"
    },
    {
     "data": {
      "image/png": "[encoded data removed]",
      "text/plain": [
       "<Figure size 432x288 with 1 Axes>"
      ]
     },
     "metadata": {
      "needs_background": "light"
     },
     "output_type": "display_data"
    }
   ],
   "source": [
    "# YOUR CODE GOES HERE\n",
    "optimizer = torch.optim.SGD(cnn.parameters(), lr=0.001)\n",
    "\n",
    "train_losses, valid_losses, valid_accs = fit(\n",
    "    model=cnn, \n",
    "    train_dataloader=train_dataloader,\n",
    "    valid_dataloader=valid_dataloader,\n",
    "    optimizer=optimizer,\n",
    "    epochs=10,\n",
    "    device=DEVICE\n",
    ")\n",
    "\n",
    "predict(model=cnn, test_dataloader=test_dataloader, device=DEVICE)\n",
    "\n",
    "plt.plot(train_losses, \"-o\")\n",
    "plt.xlabel(\"Epoch\")\n",
    "plt.ylabel(\"Train loss\")"
   ]
  },
  {
   "cell_type": "markdown",
   "metadata": {
    "id": "AE-bh1Sox_Ve"
   },
   "source": [
    "In this lab we have used (mini-batch) Stochastic Gradient Descent or simply SGD. For simplicity we consider the case for only one sample. The update rule is the following:\n",
    "\n",
    "$$\n",
    "\\mathbf{w}^{(\\tau+1)} \\gets \\mathbf{w}^{(\\tau)} - \\eta\\nabla \\mathcal{L}\\left(\\mathbf{x}, y;\\mathbf{w}^{(\\tau)}\\right)\n",
    "$$\n",
    "\n",
    "How can we improve our algorithm and encourage faster convergence? Momentum can actually help. The idea is simple: we will use the update made on the previous step and incorporate it to our current update, giving momentum to our algorithm. The actual update rule is the following:\n",
    "\n",
    "$$\n",
    "\\begin{align}\n",
    "\\mathbf{v}^{(\\tau+1)} &\\gets \\gamma\\mathbf{v}^{(\\tau)} + \\nabla \\mathcal{L}\\left(\\mathbf{x}, y;\\mathbf{w}^{(\\tau)}\\right)\n",
    "\\\\\n",
    "\\mathbf{w}^{(\\tau+1)} &\\gets \\mathbf{w}^{(\\tau)} - \\eta \\mathbf{v}^{(\\tau)}\n",
    "\\end{align}\n",
    "$$\n",
    "\n",
    "Apart from making convergence faster, momentum has other benefits:\n",
    "* dampens oscillations \n",
    "* helps us navigate ravines around local optima [1]\n",
    "\n",
    "If you are more interested in the various optimizers take a look at reference [1].\n",
    "\n",
    "----\n",
    "[1] Ruder, S., 2016. An overview of gradient descent optimization algorithms. arXiv preprint arXiv:1609.04747.\n",
    "\n"
   ]
  },
  {
   "cell_type": "code",
   "execution_count": 26,
   "metadata": {},
   "outputs": [
    {
     "name": "stdout",
     "output_type": "stream",
     "text": [
      "Test set: Avg. loss: 2.2623, Accuracy: 4099/10000 (41%)\n",
      "Epoch 0: Loss=2.285246634969906\n",
      "Epoch 0: Valid Loss=2.2622634155273436, Valid Accuracy=40.98999786376953\n",
      "Test set: Avg. loss: 2.1928, Accuracy: 5515/10000 (55%)\n",
      "Epoch 1: Loss=2.2328815411548226\n",
      "Epoch 1: Valid Loss=2.1928456665039064, Valid Accuracy=55.14999771118164\n",
      "Test set: Avg. loss: 2.0442, Accuracy: 6495/10000 (65%)\n",
      "Epoch 2: Loss=2.132718957200342\n",
      "Epoch 2: Valid Loss=2.0441571655273436, Valid Accuracy=64.94999694824219\n",
      "Test set: Avg. loss: 1.6787, Accuracy: 6999/10000 (70%)\n",
      "Epoch 3: Loss=1.8952917079536282\n",
      "Epoch 3: Valid Loss=1.6787048217773437, Valid Accuracy=69.98999786376953\n",
      "Test set: Avg. loss: 1.0801, Accuracy: 7595/10000 (76%)\n",
      "Epoch 4: Loss=1.3927788685779183\n",
      "Epoch 4: Valid Loss=1.080107586669922, Valid Accuracy=75.94999694824219\n",
      "Test set: Avg. loss: 0.7230, Accuracy: 8115/10000 (81%)\n",
      "Epoch 5: Loss=0.8876432788615324\n",
      "Epoch 5: Valid Loss=0.72301572265625, Valid Accuracy=81.1500015258789\n",
      "Test set: Avg. loss: 0.5737, Accuracy: 8435/10000 (84%)\n",
      "Epoch 6: Loss=0.6516546546196451\n",
      "Epoch 6: Valid Loss=0.5737497009277344, Valid Accuracy=84.3499984741211\n",
      "Test set: Avg. loss: 0.4977, Accuracy: 8594/10000 (86%)\n",
      "Epoch 7: Loss=0.5449783528337673\n",
      "Epoch 7: Valid Loss=0.4976949432373047, Valid Accuracy=85.93999481201172\n",
      "Test set: Avg. loss: 0.4524, Accuracy: 8703/10000 (87%)\n",
      "Epoch 8: Loss=0.4857300830130674\n",
      "Epoch 8: Valid Loss=0.45237596130371094, Valid Accuracy=87.02999877929688\n",
      "Test set: Avg. loss: 0.4213, Accuracy: 8776/10000 (88%)\n",
      "Epoch 9: Loss=0.4470958581992558\n",
      "Epoch 9: Valid Loss=0.4213031372070313, Valid Accuracy=87.75999450683594\n",
      "Test set: Avg. loss: 0.4138, Accuracy: 8815/10000 (88%)\n"
     ]
    },
    {
     "data": {
      "text/plain": [
       "Text(0, 0.5, 'Train loss')"
      ]
     },
     "execution_count": 26,
     "metadata": {},
     "output_type": "execute_result"
    },
    {
     "data": {
      "image/png": "[encoded data removed]",
      "text/plain": [
       "<Figure size 432x288 with 1 Axes>"
      ]
     },
     "metadata": {
      "needs_background": "light"
     },
     "output_type": "display_data"
    }
   ],
   "source": [
    "cnn = CNN().to(DEVICE)\n",
    "\n",
    "# YOUR CODE GOES HERE\n",
    "optimizer = torch.optim.SGD(cnn.parameters(), lr=0.001, momentum=0.9)\n",
    "\n",
    "train_losses, valid_losses, valid_accs = fit(\n",
    "    model=cnn, \n",
    "    train_dataloader=train_dataloader,\n",
    "    valid_dataloader=valid_dataloader,\n",
    "    optimizer=optimizer,\n",
    "    epochs=10,\n",
    "    device=DEVICE\n",
    ")\n",
    "\n",
    "predict(model=cnn, test_dataloader=test_dataloader, device=DEVICE)\n",
    "\n",
    "plt.plot(train_losses, \"-o\")\n",
    "plt.xlabel(\"Epoch\")\n",
    "plt.ylabel(\"Train loss\")"
   ]
  },
  {
   "cell_type": "markdown",
   "metadata": {},
   "source": [
    "## Hyperparameters: Learning rate and batch size\n",
    "\n",
    "While intution can help us select the settings of an experiment, the choice becomes complicated when more and more hyperparameters need to be taken account. Just to name a few, we might want to select learning rate, momentum or optimizer, batch size, number of layers, width of layers etc\n",
    "\n",
    "Hence, we need a systematic way to approach this problem. The most simple way is to perfrom a grid search; define a list of choices for each hyperparameter and search over all combinations."
   ]
  },
  {
   "cell_type": "code",
   "execution_count": null,
   "metadata": {},
   "outputs": [],
   "source": [
    "# Perform a grid search over 2 values of learning rate and 2 values of Batch size.\n",
    "\n",
    "from itertools import product\n",
    "\n",
    "LR_GRID = [0.01, 0.1]\n",
    "BS_GRID = [256, 512]\n",
    "\n",
    "# YOUR CODE GOES HERE\n"
   ]
  },
  {
   "cell_type": "code",
   "execution_count": null,
   "metadata": {},
   "outputs": [],
   "source": [
    "# Evaluate the performance on the test set with the best model!\n",
    "predict(model=..., test_dataloader=test_dataloader, device=DEVICE)\n"
   ]
  },
  {
   "cell_type": "markdown",
   "metadata": {},
   "source": [
    "## CIFAR10\n",
    "\n",
    "Modify the models, the epochs, the optimizers, the grid search etc and repeat the process on the more challenging dataset of CIFAR10."
   ]
  },
  {
   "cell_type": "markdown",
   "metadata": {},
   "source": []
  }
 ],
 "metadata": {
  "kernelspec": {
   "display_name": "Python 3.9.12 ('base')",
   "language": "python",
   "name": "python3"
  },
  "language_info": {
   "codemirror_mode": {
    "name": "ipython",
    "version": 3
   },
   "file_extension": ".py",
   "mimetype": "text/x-python",
   "name": "python",
   "nbconvert_exporter": "python",
   "pygments_lexer": "ipython3",
   "version": "3.9.12"
  },
  "orig_nbformat": 4,
  "vscode": {
   "interpreter": {
    "hash": "02f5945d149b04c31ea982f93ee137d9e8cdf50633c2456cfcab8268279ed0d3"
   }
  }
 },
 "nbformat": 4,
 "nbformat_minor": 2
}
